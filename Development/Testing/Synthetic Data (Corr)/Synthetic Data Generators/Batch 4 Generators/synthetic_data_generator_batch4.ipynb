{
 "cells": [
  {
   "cell_type": "code",
   "execution_count": 1,
   "metadata": {},
   "outputs": [],
   "source": [
    "import pandas as pd\n",
    "import numpy as np\n",
    "import json"
   ]
  },
  {
   "cell_type": "code",
   "execution_count": 2,
   "metadata": {},
   "outputs": [],
   "source": [
    "def listify(array):\n",
    "    \"\"\" Helper function to allow np arrays to be turned into json \"\"\"\n",
    "\n",
    "    tmp = list()\n",
    "    \n",
    "    for arr in array:\n",
    "        if type(arr) is np.float64 or type(arr) is int or type(arr) is float:\n",
    "            tmp.append(arr)\n",
    "        else:\n",
    "            tmp.append(listify(arr)) # recursively turns arrays into lists\n",
    "    \n",
    "    return tmp"
   ]
  },
  {
   "cell_type": "code",
   "execution_count": null,
   "metadata": {},
   "outputs": [],
   "source": [
    "realdata = pd.read_csv(f'./Raw/Brownlow New/.csv')"
   ]
  },
  {
   "cell_type": "code",
   "execution_count": null,
   "metadata": {},
   "outputs": [],
   "source": [
    "accur = f'score'\n",
    "name = f''"
   ]
  },
  {
   "cell_type": "code",
   "execution_count": 5,
   "metadata": {},
   "outputs": [],
   "source": [
    "attributes = list(realdata.columns)[:-10]\n",
    "\n",
    "\n",
    "real_vals = list()\n",
    "for attribute in attributes:\n",
    "    real_vals.append(sorted(list(set(realdata[attribute]))))\n",
    "\n",
    "\n",
    "num_arg_vals = [len(real_vals[i]) for i in range(len(real_vals))]\n",
    "\n",
    "\n",
    "\n",
    "coord_builder = dict()\n",
    "for i in range(len(attributes)):\n",
    "    attribute = attributes[i]\n",
    "\n",
    "    tmp_dict = dict()\n",
    "    for j in range(len(real_vals[i])):\n",
    "        tmp_dict[real_vals[i][j]] = j\n",
    "\n",
    "    coord_builder[attribute] = tmp_dict\n",
    "\n",
    "\n",
    "synth_data = np.zeros(num_arg_vals)\n",
    "\n",
    "\n",
    "best_score = -np.inf\n",
    "for index, data in realdata.iterrows():\n",
    "\n",
    "    coord = list()\n",
    "\n",
    "    for attribute in attributes:\n",
    "        coord.append(coord_builder[attribute][data.loc[attribute]])\n",
    "    \n",
    "    if data.loc[accur] > best_score:\n",
    "        best_score = data.loc[accur]\n",
    "        best_coord = coord\n",
    "\n",
    "    synth_data[tuple(coord)] = data.loc[accur]\n",
    "\n",
    "\n",
    "json_output = {\n",
    "    'num_arg_vals': num_arg_vals,\n",
    "    'synthetic_data': listify(synth_data),\n",
    "    'max': {'synth_max': best_score, 'synth_max_coord': best_coord},\n",
    "}\n",
    "\n",
    "\n",
    "with open(f'../Batch 4/{name}.json', 'w') as f:\n",
    "    json.dump(json_output, f, indent=2)"
   ]
  },
  {
   "cell_type": "code",
   "execution_count": null,
   "metadata": {},
   "outputs": [],
   "source": []
  },
  {
   "cell_type": "code",
   "execution_count": null,
   "metadata": {},
   "outputs": [],
   "source": []
  }
 ],
 "metadata": {
  "kernelspec": {
   "display_name": "Python 3.9.7 ('base')",
   "language": "python",
   "name": "python3"
  },
  "language_info": {
   "codemirror_mode": {
    "name": "ipython",
    "version": 3
   },
   "file_extension": ".py",
   "mimetype": "text/x-python",
   "name": "python",
   "nbconvert_exporter": "python",
   "pygments_lexer": "ipython3",
   "version": "3.9.7"
  },
  "orig_nbformat": 4,
  "vscode": {
   "interpreter": {
    "hash": "cd78fef2128015050713e82ca51c6520b11aee7c9ee8df750520bbbc7384cbaa"
   }
  }
 },
 "nbformat": 4,
 "nbformat_minor": 2
}
