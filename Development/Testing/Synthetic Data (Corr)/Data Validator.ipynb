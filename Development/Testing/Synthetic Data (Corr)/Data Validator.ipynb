{
 "cells": [
  {
   "cell_type": "code",
   "execution_count": 1,
   "metadata": {},
   "outputs": [],
   "source": [
    "import json\n",
    "import os\n",
    "import numpy as np\n",
    "import pandas as pd"
   ]
  },
  {
   "cell_type": "code",
   "execution_count": 2,
   "metadata": {},
   "outputs": [],
   "source": [
    "batch = 7"
   ]
  },
  {
   "cell_type": "code",
   "execution_count": 3,
   "metadata": {},
   "outputs": [],
   "source": [
    "targets = os.listdir(f'./Synthetic Data/Batch {batch}')\n",
    "targets = [(int(file.split('-')[0]), file) for file in targets if file != '.DS_Store']\n",
    "targets = sorted(targets, key = lambda x:x[0])\n",
    "targets = [file[1] for file in targets]"
   ]
  },
  {
   "cell_type": "code",
   "execution_count": 4,
   "metadata": {},
   "outputs": [],
   "source": [
    "eval_sd = pd.DataFrame()\n",
    "for target in targets:\n",
    "    \n",
    "    target_parts = target.split('-')\n",
    "\n",
    "    if len(target_parts) == 7:\n",
    "        id = target_parts[0]\n",
    "        dim, d_val = target_parts[1].split('_')[1:3]\n",
    "        mean_type = target_parts[2].strip('M_')\n",
    "        var_type = target_parts[3].strip('SD_')\n",
    "        cov_type = -float(target_parts[5])\n",
    "    else:\n",
    "        id = target_parts[0]\n",
    "        dim, d_val = target_parts[1].split('_')[1:3]\n",
    "        mean_type = target_parts[2].strip('M_')\n",
    "        var_type = target_parts[3].strip('SD_')\n",
    "        cov_type = target_parts[4].strip('C_')\n",
    "    \n",
    "    # if cov_type != '0':\n",
    "    #     continue\n",
    "    \n",
    "\n",
    "    with open(f'./Synthetic Data/Batch {batch}/{target}', 'r') as f:\n",
    "        json_input = json.load(f)\n",
    "    \n",
    "    n_arg_val = json_input['num_arg_vals']\n",
    "    arguments = {f'arg{i}': list(range(n_arg_val[i])) for i in range(len(n_arg_val))}\n",
    "    total_combos = np.prod(n_arg_val)\n",
    "    \n",
    "    tmp = np.power((np.array(json_input['synthetic_data']) - np.array(json_input['theoretical_data'])),2)\n",
    "\n",
    "    result = pd.DataFrame({'id':[id], 'num_arg_val':[n_arg_val], 'total_combos': [total_combos], 'dim': [dim], 'd_val': [d_val], \n",
    "        'mean_type':[mean_type], 'var_types':[var_type], 'cov_type':[cov_type], 'mean var': [np.mean(tmp)]})\n",
    "\n",
    "    eval_sd = eval_sd.append(result)\n"
   ]
  },
  {
   "cell_type": "code",
   "execution_count": 6,
   "metadata": {},
   "outputs": [],
   "source": [
    "eval_sd['mean sd'] = np.sqrt(eval_sd['mean var'])"
   ]
  },
  {
   "cell_type": "code",
   "execution_count": 7,
   "metadata": {},
   "outputs": [
    {
     "data": {
      "text/html": [
       "<div>\n",
       "<style scoped>\n",
       "    .dataframe tbody tr th:only-of-type {\n",
       "        vertical-align: middle;\n",
       "    }\n",
       "\n",
       "    .dataframe tbody tr th {\n",
       "        vertical-align: top;\n",
       "    }\n",
       "\n",
       "    .dataframe thead th {\n",
       "        text-align: right;\n",
       "    }\n",
       "</style>\n",
       "<table border=\"1\" class=\"dataframe\">\n",
       "  <thead>\n",
       "    <tr style=\"text-align: right;\">\n",
       "      <th></th>\n",
       "      <th>id</th>\n",
       "      <th>num_arg_val</th>\n",
       "      <th>total_combos</th>\n",
       "      <th>dim</th>\n",
       "      <th>d_val</th>\n",
       "      <th>mean_type</th>\n",
       "      <th>var_types</th>\n",
       "      <th>cov_type</th>\n",
       "      <th>mean var</th>\n",
       "      <th>mean sd</th>\n",
       "    </tr>\n",
       "  </thead>\n",
       "  <tbody>\n",
       "    <tr>\n",
       "      <th>0</th>\n",
       "      <td>0</td>\n",
       "      <td>[5, 5]</td>\n",
       "      <td>25</td>\n",
       "      <td>2</td>\n",
       "      <td>rand</td>\n",
       "      <td>rand</td>\n",
       "      <td>0.01</td>\n",
       "      <td>rand</td>\n",
       "      <td>0.000049</td>\n",
       "      <td>0.007001</td>\n",
       "    </tr>\n",
       "    <tr>\n",
       "      <th>0</th>\n",
       "      <td>1</td>\n",
       "      <td>[5, 8]</td>\n",
       "      <td>40</td>\n",
       "      <td>2</td>\n",
       "      <td>rand</td>\n",
       "      <td>rand</td>\n",
       "      <td>0.01</td>\n",
       "      <td>rand</td>\n",
       "      <td>0.000048</td>\n",
       "      <td>0.006958</td>\n",
       "    </tr>\n",
       "    <tr>\n",
       "      <th>0</th>\n",
       "      <td>2</td>\n",
       "      <td>[10, 7]</td>\n",
       "      <td>70</td>\n",
       "      <td>2</td>\n",
       "      <td>rand</td>\n",
       "      <td>rand</td>\n",
       "      <td>0.01</td>\n",
       "      <td>rand</td>\n",
       "      <td>0.000038</td>\n",
       "      <td>0.006133</td>\n",
       "    </tr>\n",
       "    <tr>\n",
       "      <th>0</th>\n",
       "      <td>3</td>\n",
       "      <td>[11, 5]</td>\n",
       "      <td>55</td>\n",
       "      <td>2</td>\n",
       "      <td>rand</td>\n",
       "      <td>rand</td>\n",
       "      <td>0.01</td>\n",
       "      <td>rand</td>\n",
       "      <td>0.000040</td>\n",
       "      <td>0.006352</td>\n",
       "    </tr>\n",
       "    <tr>\n",
       "      <th>0</th>\n",
       "      <td>4</td>\n",
       "      <td>[6, 11]</td>\n",
       "      <td>66</td>\n",
       "      <td>2</td>\n",
       "      <td>rand</td>\n",
       "      <td>rand</td>\n",
       "      <td>0.01</td>\n",
       "      <td>rand</td>\n",
       "      <td>0.000044</td>\n",
       "      <td>0.006614</td>\n",
       "    </tr>\n",
       "    <tr>\n",
       "      <th>...</th>\n",
       "      <td>...</td>\n",
       "      <td>...</td>\n",
       "      <td>...</td>\n",
       "      <td>...</td>\n",
       "      <td>...</td>\n",
       "      <td>...</td>\n",
       "      <td>...</td>\n",
       "      <td>...</td>\n",
       "      <td>...</td>\n",
       "      <td>...</td>\n",
       "    </tr>\n",
       "    <tr>\n",
       "      <th>0</th>\n",
       "      <td>115</td>\n",
       "      <td>[11, 11, 9, 7, 10, 7, 10]</td>\n",
       "      <td>5336100</td>\n",
       "      <td>7</td>\n",
       "      <td>rand</td>\n",
       "      <td>rand</td>\n",
       "      <td>0.02</td>\n",
       "      <td>rand</td>\n",
       "      <td>0.000057</td>\n",
       "      <td>0.007557</td>\n",
       "    </tr>\n",
       "    <tr>\n",
       "      <th>0</th>\n",
       "      <td>116</td>\n",
       "      <td>[11, 8, 11, 11, 10, 9, 9]</td>\n",
       "      <td>8624880</td>\n",
       "      <td>7</td>\n",
       "      <td>rand</td>\n",
       "      <td>rand</td>\n",
       "      <td>0.02</td>\n",
       "      <td>rand</td>\n",
       "      <td>0.000057</td>\n",
       "      <td>0.007560</td>\n",
       "    </tr>\n",
       "    <tr>\n",
       "      <th>0</th>\n",
       "      <td>117</td>\n",
       "      <td>[9, 8, 8, 6, 10, 8, 5]</td>\n",
       "      <td>1382400</td>\n",
       "      <td>7</td>\n",
       "      <td>rand</td>\n",
       "      <td>rand</td>\n",
       "      <td>0.02</td>\n",
       "      <td>rand</td>\n",
       "      <td>0.000057</td>\n",
       "      <td>0.007572</td>\n",
       "    </tr>\n",
       "    <tr>\n",
       "      <th>0</th>\n",
       "      <td>118</td>\n",
       "      <td>[10, 9, 10, 5, 9, 11, 7]</td>\n",
       "      <td>3118500</td>\n",
       "      <td>7</td>\n",
       "      <td>rand</td>\n",
       "      <td>rand</td>\n",
       "      <td>0.02</td>\n",
       "      <td>rand</td>\n",
       "      <td>0.000057</td>\n",
       "      <td>0.007559</td>\n",
       "    </tr>\n",
       "    <tr>\n",
       "      <th>0</th>\n",
       "      <td>119</td>\n",
       "      <td>[11, 11, 7, 9, 7, 5, 7]</td>\n",
       "      <td>1867635</td>\n",
       "      <td>7</td>\n",
       "      <td>rand</td>\n",
       "      <td>rand</td>\n",
       "      <td>0.02</td>\n",
       "      <td>rand</td>\n",
       "      <td>0.000057</td>\n",
       "      <td>0.007559</td>\n",
       "    </tr>\n",
       "  </tbody>\n",
       "</table>\n",
       "<p>120 rows × 10 columns</p>\n",
       "</div>"
      ],
      "text/plain": [
       "     id                num_arg_val  total_combos dim d_val mean_type  \\\n",
       "0     0                     [5, 5]            25   2  rand      rand   \n",
       "0     1                     [5, 8]            40   2  rand      rand   \n",
       "0     2                    [10, 7]            70   2  rand      rand   \n",
       "0     3                    [11, 5]            55   2  rand      rand   \n",
       "0     4                    [6, 11]            66   2  rand      rand   \n",
       "..  ...                        ...           ...  ..   ...       ...   \n",
       "0   115  [11, 11, 9, 7, 10, 7, 10]       5336100   7  rand      rand   \n",
       "0   116  [11, 8, 11, 11, 10, 9, 9]       8624880   7  rand      rand   \n",
       "0   117     [9, 8, 8, 6, 10, 8, 5]       1382400   7  rand      rand   \n",
       "0   118   [10, 9, 10, 5, 9, 11, 7]       3118500   7  rand      rand   \n",
       "0   119    [11, 11, 7, 9, 7, 5, 7]       1867635   7  rand      rand   \n",
       "\n",
       "   var_types cov_type  mean var   mean sd  \n",
       "0       0.01     rand  0.000049  0.007001  \n",
       "0       0.01     rand  0.000048  0.006958  \n",
       "0       0.01     rand  0.000038  0.006133  \n",
       "0       0.01     rand  0.000040  0.006352  \n",
       "0       0.01     rand  0.000044  0.006614  \n",
       "..       ...      ...       ...       ...  \n",
       "0       0.02     rand  0.000057  0.007557  \n",
       "0       0.02     rand  0.000057  0.007560  \n",
       "0       0.02     rand  0.000057  0.007572  \n",
       "0       0.02     rand  0.000057  0.007559  \n",
       "0       0.02     rand  0.000057  0.007559  \n",
       "\n",
       "[120 rows x 10 columns]"
      ]
     },
     "execution_count": 7,
     "metadata": {},
     "output_type": "execute_result"
    }
   ],
   "source": [
    "eval_sd"
   ]
  },
  {
   "cell_type": "code",
   "execution_count": 8,
   "metadata": {},
   "outputs": [
    {
     "data": {
      "text/plain": [
       "nan"
      ]
     },
     "execution_count": 8,
     "metadata": {},
     "output_type": "execute_result"
    }
   ],
   "source": [
    "eval_sd[(eval_sd['cov_type'] == '-0.67') & (eval_sd['var_types'] == '0.01')]['mean sd'].mean()"
   ]
  },
  {
   "cell_type": "code",
   "execution_count": 47,
   "metadata": {},
   "outputs": [
    {
     "data": {
      "text/plain": [
       "nan"
      ]
     },
     "execution_count": 47,
     "metadata": {},
     "output_type": "execute_result"
    }
   ],
   "source": [
    "eval_sd[(eval_sd['cov_type'] == '-0.33') & (eval_sd['var_types'] == '0.01')]['mean sd'].mean()"
   ]
  },
  {
   "cell_type": "code",
   "execution_count": 48,
   "metadata": {},
   "outputs": [
    {
     "data": {
      "text/plain": [
       "nan"
      ]
     },
     "execution_count": 48,
     "metadata": {},
     "output_type": "execute_result"
    }
   ],
   "source": [
    "eval_sd[(eval_sd['cov_type'] == '0') & (eval_sd['var_types'] == '0.01')]['mean sd'].mean()"
   ]
  },
  {
   "cell_type": "code",
   "execution_count": 49,
   "metadata": {},
   "outputs": [
    {
     "data": {
      "text/plain": [
       "nan"
      ]
     },
     "execution_count": 49,
     "metadata": {},
     "output_type": "execute_result"
    }
   ],
   "source": [
    "eval_sd[(eval_sd['cov_type'] == '0.33') & (eval_sd['var_types'] == '0.01')]['mean sd'].mean()"
   ]
  },
  {
   "cell_type": "code",
   "execution_count": 50,
   "metadata": {},
   "outputs": [
    {
     "data": {
      "text/plain": [
       "nan"
      ]
     },
     "execution_count": 50,
     "metadata": {},
     "output_type": "execute_result"
    }
   ],
   "source": [
    "eval_sd[(eval_sd['cov_type'] == '0.67') & (eval_sd['var_types'] == '0.01')]['mean sd'].mean()"
   ]
  },
  {
   "cell_type": "code",
   "execution_count": 9,
   "metadata": {},
   "outputs": [
    {
     "data": {
      "text/plain": [
       "0.00500778221068567"
      ]
     },
     "execution_count": 9,
     "metadata": {},
     "output_type": "execute_result"
    }
   ],
   "source": [
    "eval_sd[(eval_sd['cov_type'] == 'rand') & (eval_sd['var_types'] == '0.01')]['mean sd'].mean()"
   ]
  },
  {
   "cell_type": "code",
   "execution_count": 52,
   "metadata": {},
   "outputs": [
    {
     "data": {
      "text/plain": [
       "nan"
      ]
     },
     "execution_count": 52,
     "metadata": {},
     "output_type": "execute_result"
    }
   ],
   "source": [
    "eval_sd[(eval_sd['cov_type'] == -0.67) & (eval_sd['var_types'] == '0.02')]['mean sd'].mean()"
   ]
  },
  {
   "cell_type": "code",
   "execution_count": 53,
   "metadata": {},
   "outputs": [
    {
     "data": {
      "text/plain": [
       "nan"
      ]
     },
     "execution_count": 53,
     "metadata": {},
     "output_type": "execute_result"
    }
   ],
   "source": [
    "eval_sd[(eval_sd['cov_type'] == -0.33) & (eval_sd['var_types'] == '0.02')]['mean sd'].mean()"
   ]
  },
  {
   "cell_type": "code",
   "execution_count": 54,
   "metadata": {},
   "outputs": [
    {
     "data": {
      "text/plain": [
       "nan"
      ]
     },
     "execution_count": 54,
     "metadata": {},
     "output_type": "execute_result"
    }
   ],
   "source": [
    "eval_sd[(eval_sd['cov_type'] == '0') & (eval_sd['var_types'] == '0.02')]['mean sd'].mean()"
   ]
  },
  {
   "cell_type": "code",
   "execution_count": 55,
   "metadata": {},
   "outputs": [
    {
     "data": {
      "text/plain": [
       "nan"
      ]
     },
     "execution_count": 55,
     "metadata": {},
     "output_type": "execute_result"
    }
   ],
   "source": [
    "eval_sd[(eval_sd['cov_type'] == '0.33') & (eval_sd['var_types'] == '0.02')]['mean sd'].mean()"
   ]
  },
  {
   "cell_type": "code",
   "execution_count": 56,
   "metadata": {},
   "outputs": [
    {
     "data": {
      "text/plain": [
       "nan"
      ]
     },
     "execution_count": 56,
     "metadata": {},
     "output_type": "execute_result"
    }
   ],
   "source": [
    "eval_sd[(eval_sd['cov_type'] == '0.67') & (eval_sd['var_types'] == '0.02')]['mean sd'].mean()"
   ]
  },
  {
   "cell_type": "code",
   "execution_count": 10,
   "metadata": {},
   "outputs": [
    {
     "data": {
      "text/plain": [
       "0.010099389579620479"
      ]
     },
     "execution_count": 10,
     "metadata": {},
     "output_type": "execute_result"
    }
   ],
   "source": [
    "eval_sd[(eval_sd['cov_type'] == 'rand') & (eval_sd['var_types'] == '0.02')]['mean sd'].mean()"
   ]
  },
  {
   "cell_type": "code",
   "execution_count": null,
   "metadata": {},
   "outputs": [],
   "source": []
  }
 ],
 "metadata": {
  "kernelspec": {
   "display_name": "Python 3.9.7 ('base')",
   "language": "python",
   "name": "python3"
  },
  "language_info": {
   "codemirror_mode": {
    "name": "ipython",
    "version": 3
   },
   "file_extension": ".py",
   "mimetype": "text/x-python",
   "name": "python",
   "nbconvert_exporter": "python",
   "pygments_lexer": "ipython3",
   "version": "3.9.7"
  },
  "orig_nbformat": 4,
  "vscode": {
   "interpreter": {
    "hash": "cd78fef2128015050713e82ca51c6520b11aee7c9ee8df750520bbbc7384cbaa"
   }
  }
 },
 "nbformat": 4,
 "nbformat_minor": 2
}
