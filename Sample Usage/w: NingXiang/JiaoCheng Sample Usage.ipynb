{
  "cells": [
    {
      "attachments": {},
      "cell_type": "markdown",
      "metadata": {},
      "source": [
        "# JiaoCheng Sample Usage"
      ]
    },
    {
      "cell_type": "code",
      "execution_count": null,
      "metadata": {
        "id": "quYaufXb-X-0"
      },
      "outputs": [],
      "source": [
        "import warnings;\n",
        "warnings.simplefilter('ignore')"
      ]
    },
    {
      "cell_type": "code",
      "execution_count": null,
      "metadata": {},
      "outputs": [],
      "source": [
        "import sys\n",
        "import os\n",
        "py_file_location = '../../Source Code'\n",
        "sys.path.append(os.path.abspath(py_file_location))"
      ]
    },
    {
      "cell_type": "code",
      "execution_count": null,
      "metadata": {
        "id": "7c-cWEwqWf6Y"
      },
      "outputs": [],
      "source": [
        "import JiaoCheng\n",
        "\n",
        "import pandas as pd\n",
        "import pickle"
      ]
    },
    {
      "cell_type": "code",
      "execution_count": null,
      "metadata": {
        "colab": {
          "base_uri": "https://localhost:8080/"
        },
        "id": "7PIhiSeuWf6c",
        "outputId": "9daa2963-edd8-4657-afbe-96b84effc5e8"
      },
      "outputs": [
        {
          "name": "stdout",
          "output_type": "stream",
          "text": [
            "JiaoCheng Initialised\n"
          ]
        }
      ],
      "source": [
        "jiaocheng = JiaoCheng.JiaoCheng()"
      ]
    },
    {
      "attachments": {},
      "cell_type": "markdown",
      "metadata": {
        "id": "qUrhSdw1Wf6d"
      },
      "source": [
        "### Import, Prepare data and Read in"
      ]
    },
    {
      "cell_type": "code",
      "execution_count": null,
      "metadata": {
        "id": "zD20HjRNWf6d"
      },
      "outputs": [],
      "source": [
        "train_data = pd.read_csv('./drive/MyDrive/Brownlow/data/curated/modelling/N_Train_1.csv')\n",
        "val_data = pd.read_csv('./drive/MyDrive/Brownlow/data/curated/modelling/N_Validate_1.csv')\n",
        "test_data = pd.read_csv('./drive/MyDrive/Brownlow/data/curated/modelling/N_Test_1.csv')"
      ]
    },
    {
      "cell_type": "code",
      "execution_count": null,
      "metadata": {
        "id": "GIxyULMFWf6d"
      },
      "outputs": [],
      "source": [
        "train_x = train_data.drop(['1'], axis=1)\n",
        "train_y = train_data['1']\n",
        "val_x = val_data.drop(['1'], axis=1)\n",
        "val_y = val_data['1']\n",
        "test_x = test_data.drop(['1'], axis=1)\n",
        "test_y = test_data['1']"
      ]
    },
    {
      "cell_type": "code",
      "execution_count": null,
      "metadata": {
        "colab": {
          "base_uri": "https://localhost:8080/"
        },
        "id": "Fivs83bSWf6e",
        "outputId": "c00e81a9-2209-460f-d597-402f3a89731f"
      },
      "outputs": [
        {
          "name": "stdout",
          "output_type": "stream",
          "text": [
            "Read in Train X data\n",
            "Read in Train y data\n",
            "Read in Val X data\n",
            "Read in Val y data\n",
            "Read in Test X data\n",
            "Read in Test y data\n"
          ]
        }
      ],
      "source": [
        "jiaocheng.read_in_data(train_x, train_y, val_x, val_y, test_x, test_y)"
      ]
    },
    {
      "attachments": {},
      "cell_type": "markdown",
      "metadata": {
        "id": "QACuDLOQWf6e"
      },
      "source": [
        "### Initialise model and set hyperparameters"
      ]
    },
    {
      "cell_type": "code",
      "execution_count": null,
      "metadata": {},
      "outputs": [],
      "source": [
        "from sklearn.ensemble import RandomForestRegressor as RFR"
      ]
    },
    {
      "cell_type": "code",
      "execution_count": null,
      "metadata": {
        "colab": {
          "base_uri": "https://localhost:8080/"
        },
        "id": "6RD7SH-fWf6e",
        "outputId": "c7c0a26e-431d-4bfa-99d5-b5555158e5fe"
      },
      "outputs": [
        {
          "name": "stdout",
          "output_type": "stream",
          "text": [
            "Successfully read in model <class 'interpret.glassbox.ebm.ebm.ExplainableBoostingRegressor'>, which is a Regression model\n"
          ]
        }
      ],
      "source": [
        "jiaocheng.read_in_model(RFR, 'Regression')"
      ]
    },
    {
      "cell_type": "code",
      "execution_count": null,
      "metadata": {
        "id": "8EEL8XuxWf6f"
      },
      "outputs": [],
      "source": [
        "parameter_choices = {\n",
        "    'n_estimators': (25, 50, 100, 200, 400),\n",
        "    'max_depth': (3, 6, 12, 24, 48, 96, 192),\n",
        "    'max_samples': (0.4, 0.55, 0.7, 0.85),\n",
        "    'max_features': (0.4, 0.55, 0.7, 0.85),\n",
        "    'ccp_alpha': (0.00000001, 0.000001, 0.0001, 0.01, 0.1)\n",
        "}"
      ]
    },
    {
      "cell_type": "code",
      "execution_count": null,
      "metadata": {
        "colab": {
          "base_uri": "https://localhost:8080/"
        },
        "id": "axsdkgEGWf6f",
        "outputId": "0ca6ee18-42af-4ff0-a54f-85d6c2622bfa"
      },
      "outputs": [
        {
          "name": "stdout",
          "output_type": "stream",
          "text": [
            "Successfully recorded hyperparameter choices\n"
          ]
        }
      ],
      "source": [
        "jiaocheng.set_hyperparameters(parameter_choices)"
      ]
    },
    {
      "cell_type": "code",
      "execution_count": null,
      "metadata": {
        "id": "mRWrdhAuOHeP"
      },
      "outputs": [],
      "source": [
        "jiaocheng.set_non_tuneable_hyperparameters({'random_state': 19260817, 'n_jobs': -1})"
      ]
    },
    {
      "cell_type": "code",
      "execution_count": null,
      "metadata": {},
      "outputs": [],
      "source": [
        "jiaocheng.set_tuning_order(['max_depth', 'max_features', 'max_samples', 'n_estimators', 'ccp_alpha'])"
      ]
    },
    {
      "cell_type": "code",
      "execution_count": null,
      "metadata": {
        "id": "VSqSL149OWTt"
      },
      "outputs": [],
      "source": [
        "jiaocheng.set_hyperparameter_default_values({\n",
        "    'n_estimators': 50,\n",
        "    'max_depth': 12,\n",
        "    'max_samples': 0.7,\n",
        "    'max_features': 0.7,\n",
        "    'ccp_alpha': 0.01})"
      ]
    },
    {
      "cell_type": "markdown",
      "metadata": {},
      "source": [
        "### Input feature combinations for tuning via NingXiang"
      ]
    },
    {
      "cell_type": "code",
      "execution_count": null,
      "metadata": {},
      "outputs": [],
      "source": [
        "with open('./drive/MyDrive/Brownlow/models/NingXiang_output_1.pickle', 'rb') as f:\n",
        "    ningxiang_output = pickle.load(f)"
      ]
    },
    {
      "cell_type": "code",
      "execution_count": null,
      "metadata": {},
      "outputs": [],
      "source": [
        "jiaocheng.set_features(ningxiang_output)"
      ]
    },
    {
      "cell_type": "code",
      "execution_count": null,
      "metadata": {},
      "outputs": [],
      "source": [
        "jiaocheng.set_tuning_order(['features', 'max_depth', 'max_features', 'max_samples', 'n_estimators', 'ccp_alpha'])"
      ]
    },
    {
      "cell_type": "code",
      "execution_count": null,
      "metadata": {},
      "outputs": [],
      "source": [
        "jiaocheng.set_hyperparameter_default_values({\n",
        "    'features': 0, \n",
        "    'n_estimators': 50,\n",
        "    'max_depth': 12,\n",
        "    'max_samples': 0.7,\n",
        "    'max_features': 0.7,\n",
        "    'ccp_alpha': 0.01})"
      ]
    },
    {
      "attachments": {},
      "cell_type": "markdown",
      "metadata": {},
      "source": [
        "### Set output directory"
      ]
    },
    {
      "cell_type": "code",
      "execution_count": null,
      "metadata": {
        "id": "sFY3daZNWf6f"
      },
      "outputs": [],
      "source": [
        "# When Tuning did not complete in one go, uncomment this cell and run code to initialise the internal structures of YangZhou\n",
        "# When this is done, YangZhou will automatically pick up tuning where it left off\n",
        "try:\n",
        "    jiaocheng.read_in_tuning_result_df('./drive/MyDrive/Brownlow/models/tuning/N_rfr_1.csv')\n",
        "except:\n",
        "    pass"
      ]
    },
    {
      "cell_type": "code",
      "execution_count": null,
      "metadata": {
        "colab": {
          "base_uri": "https://localhost:8080/"
        },
        "id": "8cZ7H21NWf6f",
        "outputId": "73ed7c10-e21e-4362-bafd-68cf4e871f55"
      },
      "outputs": [
        {
          "name": "stdout",
          "output_type": "stream",
          "text": [
            "Successfully set tuning output address\n"
          ]
        }
      ],
      "source": [
        "jiaocheng.set_tuning_result_saving_address('./drive/MyDrive/Brownlow/models/tuning/N_rfr_1')"
      ]
    },
    {
      "cell_type": "code",
      "execution_count": null,
      "metadata": {},
      "outputs": [],
      "source": [
        "jiaocheng.set_best_model_saving_address('./drive/MyDrive/Brownlow/models/tmp_models/N_rfr_1')"
      ]
    },
    {
      "cell_type": "markdown",
      "metadata": {},
      "source": [
        "### Begin Tuning"
      ]
    },
    {
      "cell_type": "code",
      "execution_count": null,
      "metadata": {
        "colab": {
          "base_uri": "https://localhost:8080/"
        },
        "id": "ylap_VE9Wf6f",
        "outputId": "fb2b4dab-e3fc-41e6-91e5-da70722cd736"
      },
      "outputs": [
        {
          "name": "stdout",
          "output_type": "stream",
          "text": [
            "\n",
            "Default combo: [4, 2, 3, 1, 2, 1] \n",
            "\n",
            "\n",
            "ROUND 1\n",
            "\n",
            "Hyperparameter: interactions (index: 1) \n",
            "\n",
            "Trained and Tested combination 1 of 26880: (4, 0, 3, 1, 2, 1), taking 5.11 seconds to get val score of 0.3657\n",
            "        Current best combo: (4, 0, 3, 1, 2, 1) with val score 0.3657\n",
            "Trained and Tested combination 2 of 26880: (4, 1, 3, 1, 2, 1), taking 4.89 seconds to get val score of 0.367\n",
            "        Current best combo: (4, 1, 3, 1, 2, 1) with val score 0.367\n",
            "Trained and Tested combination 3 of 26880: (4, 2, 3, 1, 2, 1), taking 6.09 seconds to get val score of 0.3702\n",
            "        Current best combo: (4, 2, 3, 1, 2, 1) with val score 0.3702\n",
            "Trained and Tested combination 4 of 26880: (4, 3, 3, 1, 2, 1), taking 5.46 seconds to get val score of 0.373\n",
            "        Current best combo: (4, 3, 3, 1, 2, 1) with val score 0.373\n",
            "\n",
            "Best combo after this round: (4, 3, 3, 1, 2, 1) \n",
            "\n",
            "\n",
            "Hyperparameter: max_bins (index: 0) \n",
            "\n",
            "Trained and Tested combination 5 of 26880: (0, 3, 3, 1, 2, 1), taking 6.68 seconds to get val score of 0.359\n",
            "        Current best combo: (4, 3, 3, 1, 2, 1) with val score 0.373\n",
            "Trained and Tested combination 6 of 26880: (1, 3, 3, 1, 2, 1), taking 4.98 seconds to get val score of 0.3713\n",
            "        Current best combo: (4, 3, 3, 1, 2, 1) with val score 0.373\n",
            "Trained and Tested combination 7 of 26880: (2, 3, 3, 1, 2, 1), taking 6.32 seconds to get val score of 0.3742\n",
            "        Current best combo: (2, 3, 3, 1, 2, 1) with val score 0.3742\n",
            "Trained and Tested combination 8 of 26880: (3, 3, 3, 1, 2, 1), taking 5.6 seconds to get val score of 0.373\n",
            "        Current best combo: (2, 3, 3, 1, 2, 1) with val score 0.3742\n",
            "Already Trained and Tested combination 8, with val score 0.373\n",
            "Trained and Tested combination 9 of 26880: (5, 3, 3, 1, 2, 1), taking 5.74 seconds to get val score of 0.373\n",
            "        Current best combo: (2, 3, 3, 1, 2, 1) with val score 0.3742\n",
            "Trained and Tested combination 10 of 26880: (6, 3, 3, 1, 2, 1), taking 6.58 seconds to get val score of 0.373\n",
            "        Current best combo: (2, 3, 3, 1, 2, 1) with val score 0.3742\n",
            "Trained and Tested combination 11 of 26880: (7, 3, 3, 1, 2, 1), taking 5.48 seconds to get val score of 0.373\n",
            "        Current best combo: (2, 3, 3, 1, 2, 1) with val score 0.3742\n",
            "\n",
            "Best combo after this round: (2, 3, 3, 1, 2, 1) \n",
            "\n",
            "\n",
            "Hyperparameter: max_leaves (index: 5) \n",
            "\n",
            "Trained and Tested combination 12 of 26880: (2, 3, 3, 1, 2, 0), taking 6.39 seconds to get val score of 0.3742\n",
            "        Current best combo: (2, 3, 3, 1, 2, 1) with val score 0.3742\n",
            "Already Trained and Tested combination 12, with val score 0.3742\n",
            "Trained and Tested combination 13 of 26880: (2, 3, 3, 1, 2, 2), taking 5.34 seconds to get val score of 0.3742\n",
            "        Current best combo: (2, 3, 3, 1, 2, 1) with val score 0.3742\n",
            "Trained and Tested combination 14 of 26880: (2, 3, 3, 1, 2, 3), taking 10.72 seconds to get val score of 0.3742\n",
            "        Current best combo: (2, 3, 3, 1, 2, 1) with val score 0.3742\n",
            "\n",
            "Best combo after this round: (2, 3, 3, 1, 2, 1) \n",
            "\n",
            "\n",
            "Hyperparameter: min_samples_leaf (index: 4) \n",
            "\n",
            "Trained and Tested combination 15 of 26880: (2, 3, 3, 1, 0, 1), taking 5.54 seconds to get val score of 0.3742\n",
            "        Current best combo: (2, 3, 3, 1, 2, 1) with val score 0.3742\n",
            "Trained and Tested combination 16 of 26880: (2, 3, 3, 1, 1, 1), taking 6.11 seconds to get val score of 0.3742\n",
            "        Current best combo: (2, 3, 3, 1, 2, 1) with val score 0.3742\n",
            "Already Trained and Tested combination 16, with val score 0.3742\n",
            "Trained and Tested combination 17 of 26880: (2, 3, 3, 1, 3, 1), taking 5.29 seconds to get val score of 0.3742\n",
            "        Current best combo: (2, 3, 3, 1, 2, 1) with val score 0.3742\n",
            "Trained and Tested combination 18 of 26880: (2, 3, 3, 1, 4, 1), taking 6.49 seconds to get val score of 0.3742\n",
            "        Current best combo: (2, 3, 3, 1, 2, 1) with val score 0.3742\n",
            "Trained and Tested combination 19 of 26880: (2, 3, 3, 1, 5, 1), taking 6.48 seconds to get val score of 0.3742\n",
            "        Current best combo: (2, 3, 3, 1, 2, 1) with val score 0.3742\n",
            "\n",
            "Best combo after this round: (2, 3, 3, 1, 2, 1) \n",
            "\n",
            "\n",
            "Hyperparameter: max_rounds (index: 3) \n",
            "\n",
            "Trained and Tested combination 20 of 26880: (2, 3, 3, 0, 2, 1), taking 5.04 seconds to get val score of 0.374\n",
            "        Current best combo: (2, 3, 3, 1, 2, 1) with val score 0.3742\n",
            "Already Trained and Tested combination 20, with val score 0.3742\n",
            "Trained and Tested combination 21 of 26880: (2, 3, 3, 2, 2, 1), taking 6.11 seconds to get val score of 0.3741\n",
            "        Current best combo: (2, 3, 3, 1, 2, 1) with val score 0.3742\n",
            "Trained and Tested combination 22 of 26880: (2, 3, 3, 3, 2, 1), taking 7.24 seconds to get val score of 0.3741\n",
            "        Current best combo: (2, 3, 3, 1, 2, 1) with val score 0.3742\n",
            "Trained and Tested combination 23 of 26880: (2, 3, 3, 4, 2, 1), taking 6.12 seconds to get val score of 0.3741\n",
            "        Current best combo: (2, 3, 3, 1, 2, 1) with val score 0.3742\n",
            "\n",
            "Best combo after this round: (2, 3, 3, 1, 2, 1) \n",
            "\n",
            "\n",
            "Hyperparameter: learning_rate (index: 2) \n",
            "\n",
            "Trained and Tested combination 24 of 26880: (2, 3, 0, 1, 2, 1), taking 6.72 seconds to get val score of -7.6157\n",
            "        Current best combo: (2, 3, 3, 1, 2, 1) with val score 0.3742\n",
            "Trained and Tested combination 25 of 26880: (2, 3, 1, 1, 2, 1), taking 5.95 seconds to get val score of 0.2517\n",
            "        Current best combo: (2, 3, 3, 1, 2, 1) with val score 0.3742\n",
            "Trained and Tested combination 26 of 26880: (2, 3, 2, 1, 2, 1), taking 5.61 seconds to get val score of 0.3728\n",
            "        Current best combo: (2, 3, 3, 1, 2, 1) with val score 0.3742\n",
            "Already Trained and Tested combination 26, with val score 0.3742\n",
            "Trained and Tested combination 27 of 26880: (2, 3, 4, 1, 2, 1), taking 5.9 seconds to get val score of 0.3495\n",
            "        Current best combo: (2, 3, 3, 1, 2, 1) with val score 0.3742\n",
            "Trained and Tested combination 28 of 26880: (2, 3, 5, 1, 2, 1), taking 5.56 seconds to get val score of -90768.3564\n",
            "        Current best combo: (2, 3, 3, 1, 2, 1) with val score 0.3742\n",
            "Trained and Tested combination 29 of 26880: (2, 3, 6, 1, 2, 1), taking 6.67 seconds to get val score of -1328964035.8354\n",
            "        Current best combo: (2, 3, 3, 1, 2, 1) with val score 0.3742\n",
            "\n",
            "Best combo after this round: (2, 3, 3, 1, 2, 1) \n",
            "\n",
            "\n",
            "ROUND 2\n",
            "\n",
            "Hyperparameter: interactions (index: 1) \n",
            "\n",
            "Trained and Tested combination 30 of 26880: (2, 0, 3, 1, 2, 1), taking 4.59 seconds to get val score of 0.3681\n",
            "        Current best combo: (2, 3, 3, 1, 2, 1) with val score 0.3742\n",
            "Trained and Tested combination 31 of 26880: (2, 1, 3, 1, 2, 1), taking 5.65 seconds to get val score of 0.3692\n",
            "        Current best combo: (2, 3, 3, 1, 2, 1) with val score 0.3742\n",
            "Trained and Tested combination 32 of 26880: (2, 2, 3, 1, 2, 1), taking 4.96 seconds to get val score of 0.372\n",
            "        Current best combo: (2, 3, 3, 1, 2, 1) with val score 0.3742\n",
            "Already Trained and Tested combination 32, with val score 0.3742\n",
            "\n",
            "Best combo after this round: (2, 3, 3, 1, 2, 1) \n",
            "\n",
            "\n",
            "Hyperparameter: max_bins (index: 0) \n",
            "\n",
            "Already Trained and Tested combination 32, with val score 0.359\n",
            "Already Trained and Tested combination 32, with val score 0.3713\n",
            "Already Trained and Tested combination 32, with val score 0.3742\n",
            "Already Trained and Tested combination 32, with val score 0.373\n",
            "Already Trained and Tested combination 32, with val score 0.373\n",
            "Already Trained and Tested combination 32, with val score 0.373\n",
            "Already Trained and Tested combination 32, with val score 0.373\n",
            "Already Trained and Tested combination 32, with val score 0.373\n",
            "\n",
            "Best combo after this round: (2, 3, 3, 1, 2, 1) \n",
            "\n",
            "\n",
            "Hyperparameter: max_leaves (index: 5) \n",
            "\n",
            "Already Trained and Tested combination 32, with val score 0.3742\n",
            "Already Trained and Tested combination 32, with val score 0.3742\n",
            "Already Trained and Tested combination 32, with val score 0.3742\n",
            "Already Trained and Tested combination 32, with val score 0.3742\n",
            "\n",
            "Best combo after this round: (2, 3, 3, 1, 2, 1) \n",
            "\n",
            "\n",
            "Hyperparameter: min_samples_leaf (index: 4) \n",
            "\n",
            "Already Trained and Tested combination 32, with val score 0.3742\n",
            "Already Trained and Tested combination 32, with val score 0.3742\n",
            "Already Trained and Tested combination 32, with val score 0.3742\n",
            "Already Trained and Tested combination 32, with val score 0.3742\n",
            "Already Trained and Tested combination 32, with val score 0.3742\n",
            "Already Trained and Tested combination 32, with val score 0.3742\n",
            "\n",
            "Best combo after this round: (2, 3, 3, 1, 2, 1) \n",
            "\n",
            "\n",
            "Hyperparameter: max_rounds (index: 3) \n",
            "\n",
            "Already Trained and Tested combination 32, with val score 0.374\n",
            "Already Trained and Tested combination 32, with val score 0.3742\n",
            "Already Trained and Tested combination 32, with val score 0.3741\n",
            "Already Trained and Tested combination 32, with val score 0.3741\n",
            "Already Trained and Tested combination 32, with val score 0.3741\n",
            "\n",
            "Best combo after this round: (2, 3, 3, 1, 2, 1) \n",
            "\n",
            "\n",
            "Hyperparameter: learning_rate (index: 2) \n",
            "\n",
            "Already Trained and Tested combination 32, with val score -7.6157\n",
            "Already Trained and Tested combination 32, with val score 0.2517\n",
            "Already Trained and Tested combination 32, with val score 0.3728\n",
            "Already Trained and Tested combination 32, with val score 0.3742\n",
            "Already Trained and Tested combination 32, with val score 0.3495\n",
            "Already Trained and Tested combination 32, with val score -90768.3564\n",
            "Already Trained and Tested combination 32, with val score -1328964035.8354\n",
            "\n",
            "Best combo after this round: (2, 3, 3, 1, 2, 1) \n",
            "\n",
            "TUNING FINISHED\n",
            "\n",
            "Max Score: \n",
            " 0.37419687271799396\n",
            "Max Combo: \n",
            " (2, 3, 3, 1, 2, 1)\n",
            "% Combos Checked: 32 out of 26880 which is 0.119048%\n"
          ]
        }
      ],
      "source": [
        "jiaocheng.tune()"
      ]
    },
    {
      "attachments": {},
      "cell_type": "markdown",
      "metadata": {},
      "source": [
        "### View Best Tuning Output"
      ]
    },
    {
      "cell_type": "code",
      "execution_count": null,
      "metadata": {
        "colab": {
          "base_uri": "https://localhost:8080/"
        },
        "id": "zn_fUi7JWf6f",
        "outputId": "e29c92fd-8bb0-4761-9895-d35736b344cd"
      },
      "outputs": [
        {
          "name": "stdout",
          "output_type": "stream",
          "text": [
            "(Current) Best combo: (2, 3, 3, 1, 2, 1) with val score 0.37419687271799396\n"
          ]
        }
      ],
      "source": [
        "jiaocheng.view_best_combo_and_score()"
      ]
    }
  ],
  "metadata": {
    "colab": {
      "provenance": []
    },
    "kernelspec": {
      "display_name": "Python 3.9.7 ('base')",
      "language": "python",
      "name": "python3"
    },
    "language_info": {
      "codemirror_mode": {
        "name": "ipython",
        "version": 3
      },
      "file_extension": ".py",
      "mimetype": "text/x-python",
      "name": "python",
      "nbconvert_exporter": "python",
      "pygments_lexer": "ipython3",
      "version": "3.9.7"
    },
    "vscode": {
      "interpreter": {
        "hash": "cd78fef2128015050713e82ca51c6520b11aee7c9ee8df750520bbbc7384cbaa"
      }
    }
  },
  "nbformat": 4,
  "nbformat_minor": 0
}
